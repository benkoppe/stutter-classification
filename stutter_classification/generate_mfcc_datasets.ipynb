{
 "cells": [
  {
   "cell_type": "code",
   "execution_count": 4,
   "metadata": {},
   "outputs": [],
   "source": [
    "from stutter_classification.data.sep28k_data import get_sep28k_mfcc_df"
   ]
  },
  {
   "cell_type": "code",
   "execution_count": 5,
   "metadata": {},
   "outputs": [],
   "source": [
    "LOWER_N_MFCC = 5\n",
    "UPPER_N_MFCC = 21"
   ]
  },
  {
   "cell_type": "code",
   "execution_count": 6,
   "metadata": {},
   "outputs": [
    {
     "name": "stdout",
     "output_type": "stream",
     "text": [
      "n_mfcc = 5\n"
     ]
    },
    {
     "name": "stderr",
     "output_type": "stream",
     "text": [
      "  0%|          | 0/21856 [00:00<?, ?it/s]\n"
     ]
    },
    {
     "ename": "TypeError",
     "evalue": "extract_mfccs() got an unexpected keyword argument 'n_mfcc'",
     "output_type": "error",
     "traceback": [
      "\u001b[0;31m---------------------------------------------------------------------------\u001b[0m",
      "\u001b[0;31mTypeError\u001b[0m                                 Traceback (most recent call last)",
      "Cell \u001b[0;32mIn[6], line 3\u001b[0m\n\u001b[1;32m      1\u001b[0m \u001b[38;5;28;01mfor\u001b[39;00m n_mfccs \u001b[38;5;129;01min\u001b[39;00m \u001b[38;5;28mrange\u001b[39m(LOWER_N_MFCC, UPPER_N_MFCC \u001b[38;5;241m+\u001b[39m \u001b[38;5;241m1\u001b[39m):\n\u001b[1;32m      2\u001b[0m     \u001b[38;5;28mprint\u001b[39m(\u001b[38;5;124mf\u001b[39m\u001b[38;5;124m\"\u001b[39m\u001b[38;5;124mn_mfcc = \u001b[39m\u001b[38;5;132;01m{\u001b[39;00mn_mfccs\u001b[38;5;132;01m}\u001b[39;00m\u001b[38;5;124m\"\u001b[39m)\n\u001b[0;32m----> 3\u001b[0m     df \u001b[38;5;241m=\u001b[39m \u001b[43mget_sep28k_mfcc_df\u001b[49m\u001b[43m(\u001b[49m\u001b[43mn_mfccs\u001b[49m\u001b[38;5;241;43m=\u001b[39;49m\u001b[43mn_mfccs\u001b[49m\u001b[43m)\u001b[49m\n\u001b[1;32m      4\u001b[0m     \u001b[38;5;28mprint\u001b[39m()\n",
      "File \u001b[0;32m~/Python-Projects/stuttering/stutter-classification/stutter_classification/data/sep28k_data.py:24\u001b[0m, in \u001b[0;36mget_sep28k_mfcc_df\u001b[0;34m(n_mfccs)\u001b[0m\n\u001b[1;32m     21\u001b[0m \u001b[38;5;28;01mif\u001b[39;00m os\u001b[38;5;241m.\u001b[39mpath\u001b[38;5;241m.\u001b[39mexists(mfcc_path):\n\u001b[1;32m     22\u001b[0m     \u001b[38;5;28;01mreturn\u001b[39;00m pd\u001b[38;5;241m.\u001b[39mread_csv(mfcc_path)\n\u001b[0;32m---> 24\u001b[0m mfcc_df \u001b[38;5;241m=\u001b[39m \u001b[43m_get_sep28k_mfcc_df\u001b[49m\u001b[43m(\u001b[49m\u001b[43mn_mfccs\u001b[49m\u001b[38;5;241;43m=\u001b[39;49m\u001b[43mn_mfccs\u001b[49m\u001b[43m)\u001b[49m\n\u001b[1;32m     25\u001b[0m mfcc_df\u001b[38;5;241m.\u001b[39mto_csv(mfcc_path, index\u001b[38;5;241m=\u001b[39m\u001b[38;5;28;01mFalse\u001b[39;00m)\n\u001b[1;32m     27\u001b[0m \u001b[38;5;28;01mreturn\u001b[39;00m mfcc_df\n",
      "File \u001b[0;32m~/Python-Projects/stuttering/stutter-classification/stutter_classification/data/sep28k_data.py:40\u001b[0m, in \u001b[0;36m_get_sep28k_mfcc_df\u001b[0;34m(n_mfccs)\u001b[0m\n\u001b[1;32m     38\u001b[0m     filename \u001b[38;5;241m=\u001b[39m file_path\u001b[38;5;241m.\u001b[39mname\n\u001b[1;32m     39\u001b[0m     \u001b[38;5;28;01mif\u001b[39;00m \u001b[38;5;124m\"\u001b[39m\u001b[38;5;124mFluencyBank\u001b[39m\u001b[38;5;124m\"\u001b[39m \u001b[38;5;129;01mnot\u001b[39;00m \u001b[38;5;129;01min\u001b[39;00m filename \u001b[38;5;129;01mand\u001b[39;00m ignore_list\u001b[38;5;241m.\u001b[39mcount(filename) \u001b[38;5;241m==\u001b[39m \u001b[38;5;241m0\u001b[39m:\n\u001b[0;32m---> 40\u001b[0m         mfccs \u001b[38;5;241m=\u001b[39m \u001b[43mextract_mfccs_from_file\u001b[49m\u001b[43m(\u001b[49m\u001b[43mfile_path\u001b[49m\u001b[43m,\u001b[49m\u001b[43m \u001b[49m\u001b[43mn_mfccs\u001b[49m\u001b[38;5;241;43m=\u001b[39;49m\u001b[43mn_mfccs\u001b[49m\u001b[43m)\u001b[49m\n\u001b[1;32m     41\u001b[0m         features[filetitle] \u001b[38;5;241m=\u001b[39m mfccs\n\u001b[1;32m     43\u001b[0m \u001b[38;5;66;03m# making dataset from features\u001b[39;00m\n",
      "File \u001b[0;32m~/Python-Projects/stuttering/stutter-classification/stutter_classification/data/feature_extraction.py:15\u001b[0m, in \u001b[0;36mextract_mfccs_from_file\u001b[0;34m(file_path, n_mfccs)\u001b[0m\n\u001b[1;32m     13\u001b[0m \u001b[38;5;28;01mdef\u001b[39;00m \u001b[38;5;21mextract_mfccs_from_file\u001b[39m(file_path, n_mfccs\u001b[38;5;241m=\u001b[39m\u001b[38;5;241m13\u001b[39m):\n\u001b[1;32m     14\u001b[0m     audio, sample_rate \u001b[38;5;241m=\u001b[39m librosa\u001b[38;5;241m.\u001b[39mload(file_path, res_type\u001b[38;5;241m=\u001b[39m\u001b[38;5;124m\"\u001b[39m\u001b[38;5;124mkaiser_fast\u001b[39m\u001b[38;5;124m\"\u001b[39m, sr\u001b[38;5;241m=\u001b[39m\u001b[38;5;28;01mNone\u001b[39;00m)\n\u001b[0;32m---> 15\u001b[0m     \u001b[38;5;28;01mreturn\u001b[39;00m \u001b[43mextract_mfccs\u001b[49m\u001b[43m(\u001b[49m\u001b[43maudio\u001b[49m\u001b[43m,\u001b[49m\u001b[43m \u001b[49m\u001b[43msample_rate\u001b[49m\u001b[43m,\u001b[49m\u001b[43m \u001b[49m\u001b[43mn_mfcc\u001b[49m\u001b[38;5;241;43m=\u001b[39;49m\u001b[43mn_mfccs\u001b[49m\u001b[43m)\u001b[49m\n",
      "\u001b[0;31mTypeError\u001b[0m: extract_mfccs() got an unexpected keyword argument 'n_mfcc'"
     ]
    }
   ],
   "source": [
    "for n_mfccs in range(LOWER_N_MFCC, UPPER_N_MFCC + 1):\n",
    "    print(f\"n_mfcc = {n_mfccs}\")\n",
    "    df = get_sep28k_mfcc_df(n_mfccs=n_mfccs)\n",
    "    print()"
   ]
  }
 ],
 "metadata": {
  "kernelspec": {
   "display_name": "stutter-classification-LG1XQ0vP-py3.10",
   "language": "python",
   "name": "python3"
  },
  "language_info": {
   "codemirror_mode": {
    "name": "ipython",
    "version": 3
   },
   "file_extension": ".py",
   "mimetype": "text/x-python",
   "name": "python",
   "nbconvert_exporter": "python",
   "pygments_lexer": "ipython3",
   "version": "3.10.12"
  }
 },
 "nbformat": 4,
 "nbformat_minor": 2
}
