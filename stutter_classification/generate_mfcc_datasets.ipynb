{
 "cells": [
  {
   "cell_type": "code",
   "execution_count": null,
   "metadata": {},
   "outputs": [],
   "source": [
    "# imports\n",
    "\n",
    "from stutter_classification.data.sep28k_data import get_sep28k_mfcc_df"
   ]
  },
  {
   "cell_type": "code",
   "execution_count": null,
   "metadata": {},
   "outputs": [],
   "source": [
    "# set bounds for n_mfccs\n",
    "\n",
    "LOWER_N_MFCCS = 5\n",
    "UPPER_N_MFCCS = 21"
   ]
  },
  {
   "cell_type": "code",
   "execution_count": null,
   "metadata": {},
   "outputs": [],
   "source": [
    "# generate dataframes with each n_mfccs value\n",
    "\n",
    "for n_mfccs in range(LOWER_N_MFCCS, UPPER_N_MFCCS + 1):\n",
    "    print(f\"n_mfcc = {n_mfccs}\")\n",
    "    df = get_sep28k_mfcc_df(n_mfccs=n_mfccs)\n",
    "    print()"
   ]
  }
 ],
 "metadata": {
  "kernelspec": {
   "display_name": "stutter-classification-LG1XQ0vP-py3.10",
   "language": "python",
   "name": "python3"
  },
  "language_info": {
   "codemirror_mode": {
    "name": "ipython",
    "version": 3
   },
   "file_extension": ".py",
   "mimetype": "text/x-python",
   "name": "python",
   "nbconvert_exporter": "python",
   "pygments_lexer": "ipython3",
   "version": "3.10.12"
  }
 },
 "nbformat": 4,
 "nbformat_minor": 2
}
