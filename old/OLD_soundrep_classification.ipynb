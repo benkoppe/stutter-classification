{
 "cells": [
  {
   "cell_type": "code",
   "execution_count": 10,
   "metadata": {},
   "outputs": [],
   "source": [
    "# imports\n",
    "\n",
    "import pandas as pd\n",
    "import numpy as np\n",
    "from collections import Counter\n",
    "\n",
    "from sklearn.model_selection import train_test_split\n",
    "from sklearn.tree import DecisionTreeClassifier\n",
    "\n",
    "from common import get_df, filter_columns_except_target"
   ]
  },
  {
   "cell_type": "code",
   "execution_count": 11,
   "metadata": {},
   "outputs": [],
   "source": [
    "# get df\n",
    "\n",
    "df = get_df()\n",
    "\n",
    "df = filter_columns_except_target(\"SoundRep\")"
   ]
  },
  {
   "cell_type": "code",
   "execution_count": 12,
   "metadata": {},
   "outputs": [
    {
     "data": {
      "text/plain": [
       "SoundRep\n",
       "0    1702\n",
       "1     121\n",
       "Name: count, dtype: int64"
      ]
     },
     "execution_count": 12,
     "metadata": {},
     "output_type": "execute_result"
    }
   ],
   "source": [
    "# ensure SoundRep doesn't exceed 1.0 (?)\n",
    "\n",
    "df.loc[df['SoundRep'] >= 1.0, 'SoundRep'] = 1.0\n",
    "df['SoundRep'].value_counts()"
   ]
  },
  {
   "cell_type": "code",
   "execution_count": 19,
   "metadata": {},
   "outputs": [
    {
     "name": "stdout",
     "output_type": "stream",
     "text": [
      "Index(['Show', 'EpId', 'ClipId', 'Start', 'Stop', 'Unsure', 'PoorAudioQuality',\n",
      "       'Prolongation', 'Block', 'SoundRep', 'WordRep', 'DifficultToUnderstand',\n",
      "       'Interjection', 'NoStutteredWords', 'NaturalPause', 'Music', 'NoSpeech',\n",
      "       'Name', '0', '1', '2', '3', '4', '5', '6', '7', '8', '9', '10', '11',\n",
      "       '12'],\n",
      "      dtype='object')\n"
     ]
    },
    {
     "data": {
      "text/html": [
       "<div>\n",
       "<style scoped>\n",
       "    .dataframe tbody tr th:only-of-type {\n",
       "        vertical-align: middle;\n",
       "    }\n",
       "\n",
       "    .dataframe tbody tr th {\n",
       "        vertical-align: top;\n",
       "    }\n",
       "\n",
       "    .dataframe thead th {\n",
       "        text-align: right;\n",
       "    }\n",
       "</style>\n",
       "<table border=\"1\" class=\"dataframe\">\n",
       "  <thead>\n",
       "    <tr style=\"text-align: right;\">\n",
       "      <th></th>\n",
       "      <th>0</th>\n",
       "      <th>1</th>\n",
       "      <th>2</th>\n",
       "      <th>3</th>\n",
       "      <th>4</th>\n",
       "      <th>5</th>\n",
       "      <th>6</th>\n",
       "      <th>7</th>\n",
       "      <th>8</th>\n",
       "      <th>9</th>\n",
       "      <th>10</th>\n",
       "      <th>11</th>\n",
       "      <th>12</th>\n",
       "    </tr>\n",
       "  </thead>\n",
       "  <tbody>\n",
       "    <tr>\n",
       "      <th>2</th>\n",
       "      <td>-313.66693</td>\n",
       "      <td>62.418663</td>\n",
       "      <td>-1.334001</td>\n",
       "      <td>36.037716</td>\n",
       "      <td>-2.650916</td>\n",
       "      <td>-11.021190</td>\n",
       "      <td>-9.310137</td>\n",
       "      <td>-1.562138</td>\n",
       "      <td>-13.035161</td>\n",
       "      <td>-8.655548</td>\n",
       "      <td>-4.336684</td>\n",
       "      <td>-7.372600</td>\n",
       "      <td>-7.138989</td>\n",
       "    </tr>\n",
       "    <tr>\n",
       "      <th>4</th>\n",
       "      <td>-341.35330</td>\n",
       "      <td>68.857990</td>\n",
       "      <td>-3.959714</td>\n",
       "      <td>8.430685</td>\n",
       "      <td>-0.561030</td>\n",
       "      <td>-4.473868</td>\n",
       "      <td>-9.220819</td>\n",
       "      <td>-3.201562</td>\n",
       "      <td>-11.855061</td>\n",
       "      <td>-4.699773</td>\n",
       "      <td>-2.414847</td>\n",
       "      <td>-7.803762</td>\n",
       "      <td>-6.036354</td>\n",
       "    </tr>\n",
       "    <tr>\n",
       "      <th>6</th>\n",
       "      <td>-351.60030</td>\n",
       "      <td>79.161490</td>\n",
       "      <td>10.344584</td>\n",
       "      <td>4.350781</td>\n",
       "      <td>-14.230148</td>\n",
       "      <td>-3.446105</td>\n",
       "      <td>-3.806111</td>\n",
       "      <td>-6.410497</td>\n",
       "      <td>-7.694992</td>\n",
       "      <td>-1.443514</td>\n",
       "      <td>-7.135466</td>\n",
       "      <td>-3.231779</td>\n",
       "      <td>-8.599639</td>\n",
       "    </tr>\n",
       "    <tr>\n",
       "      <th>9</th>\n",
       "      <td>-322.53464</td>\n",
       "      <td>84.011630</td>\n",
       "      <td>-0.464124</td>\n",
       "      <td>10.802255</td>\n",
       "      <td>0.253166</td>\n",
       "      <td>-0.571133</td>\n",
       "      <td>-7.632134</td>\n",
       "      <td>-2.497034</td>\n",
       "      <td>-8.864997</td>\n",
       "      <td>-2.741921</td>\n",
       "      <td>-5.094120</td>\n",
       "      <td>-9.865230</td>\n",
       "      <td>-3.816169</td>\n",
       "    </tr>\n",
       "    <tr>\n",
       "      <th>11</th>\n",
       "      <td>-310.75836</td>\n",
       "      <td>27.546114</td>\n",
       "      <td>-17.378853</td>\n",
       "      <td>24.965218</td>\n",
       "      <td>-20.023012</td>\n",
       "      <td>1.167747</td>\n",
       "      <td>-13.532716</td>\n",
       "      <td>-7.309594</td>\n",
       "      <td>-3.097384</td>\n",
       "      <td>-5.110380</td>\n",
       "      <td>-7.832860</td>\n",
       "      <td>-5.489939</td>\n",
       "      <td>-3.351381</td>\n",
       "    </tr>\n",
       "    <tr>\n",
       "      <th>...</th>\n",
       "      <td>...</td>\n",
       "      <td>...</td>\n",
       "      <td>...</td>\n",
       "      <td>...</td>\n",
       "      <td>...</td>\n",
       "      <td>...</td>\n",
       "      <td>...</td>\n",
       "      <td>...</td>\n",
       "      <td>...</td>\n",
       "      <td>...</td>\n",
       "      <td>...</td>\n",
       "      <td>...</td>\n",
       "      <td>...</td>\n",
       "    </tr>\n",
       "    <tr>\n",
       "      <th>16392</th>\n",
       "      <td>-396.81607</td>\n",
       "      <td>47.699245</td>\n",
       "      <td>-28.230492</td>\n",
       "      <td>26.002823</td>\n",
       "      <td>-16.124668</td>\n",
       "      <td>-14.775862</td>\n",
       "      <td>-19.643864</td>\n",
       "      <td>-7.232727</td>\n",
       "      <td>-7.771798</td>\n",
       "      <td>-8.517435</td>\n",
       "      <td>1.568334</td>\n",
       "      <td>-6.449186</td>\n",
       "      <td>1.097754</td>\n",
       "    </tr>\n",
       "    <tr>\n",
       "      <th>16393</th>\n",
       "      <td>-366.09630</td>\n",
       "      <td>59.089394</td>\n",
       "      <td>-23.645918</td>\n",
       "      <td>8.484849</td>\n",
       "      <td>-29.523224</td>\n",
       "      <td>-2.754618</td>\n",
       "      <td>-15.226082</td>\n",
       "      <td>-7.238288</td>\n",
       "      <td>1.549171</td>\n",
       "      <td>-8.778543</td>\n",
       "      <td>-10.499634</td>\n",
       "      <td>-2.756248</td>\n",
       "      <td>-6.887878</td>\n",
       "    </tr>\n",
       "    <tr>\n",
       "      <th>16399</th>\n",
       "      <td>-316.00030</td>\n",
       "      <td>42.245884</td>\n",
       "      <td>-40.056313</td>\n",
       "      <td>16.823679</td>\n",
       "      <td>-23.059666</td>\n",
       "      <td>-6.954730</td>\n",
       "      <td>-10.113518</td>\n",
       "      <td>-13.114539</td>\n",
       "      <td>0.588433</td>\n",
       "      <td>-15.267725</td>\n",
       "      <td>-10.102098</td>\n",
       "      <td>-0.440946</td>\n",
       "      <td>0.197361</td>\n",
       "    </tr>\n",
       "    <tr>\n",
       "      <th>16401</th>\n",
       "      <td>-350.42902</td>\n",
       "      <td>27.453810</td>\n",
       "      <td>-35.155933</td>\n",
       "      <td>18.849430</td>\n",
       "      <td>-23.086039</td>\n",
       "      <td>2.158883</td>\n",
       "      <td>-8.471071</td>\n",
       "      <td>1.332329</td>\n",
       "      <td>2.440598</td>\n",
       "      <td>-1.968042</td>\n",
       "      <td>-7.462181</td>\n",
       "      <td>0.142055</td>\n",
       "      <td>-4.275077</td>\n",
       "    </tr>\n",
       "    <tr>\n",
       "      <th>16406</th>\n",
       "      <td>-374.96716</td>\n",
       "      <td>-7.382680</td>\n",
       "      <td>-19.960464</td>\n",
       "      <td>34.808212</td>\n",
       "      <td>-24.722095</td>\n",
       "      <td>-2.228706</td>\n",
       "      <td>-9.393263</td>\n",
       "      <td>2.945532</td>\n",
       "      <td>-1.885135</td>\n",
       "      <td>-5.709171</td>\n",
       "      <td>-6.403487</td>\n",
       "      <td>-4.559177</td>\n",
       "      <td>-4.068616</td>\n",
       "    </tr>\n",
       "  </tbody>\n",
       "</table>\n",
       "<p>1823 rows × 13 columns</p>\n",
       "</div>"
      ],
      "text/plain": [
       "               0          1          2          3          4          5  \\\n",
       "2     -313.66693  62.418663  -1.334001  36.037716  -2.650916 -11.021190   \n",
       "4     -341.35330  68.857990  -3.959714   8.430685  -0.561030  -4.473868   \n",
       "6     -351.60030  79.161490  10.344584   4.350781 -14.230148  -3.446105   \n",
       "9     -322.53464  84.011630  -0.464124  10.802255   0.253166  -0.571133   \n",
       "11    -310.75836  27.546114 -17.378853  24.965218 -20.023012   1.167747   \n",
       "...          ...        ...        ...        ...        ...        ...   \n",
       "16392 -396.81607  47.699245 -28.230492  26.002823 -16.124668 -14.775862   \n",
       "16393 -366.09630  59.089394 -23.645918   8.484849 -29.523224  -2.754618   \n",
       "16399 -316.00030  42.245884 -40.056313  16.823679 -23.059666  -6.954730   \n",
       "16401 -350.42902  27.453810 -35.155933  18.849430 -23.086039   2.158883   \n",
       "16406 -374.96716  -7.382680 -19.960464  34.808212 -24.722095  -2.228706   \n",
       "\n",
       "               6          7          8          9         10        11  \\\n",
       "2      -9.310137  -1.562138 -13.035161  -8.655548  -4.336684 -7.372600   \n",
       "4      -9.220819  -3.201562 -11.855061  -4.699773  -2.414847 -7.803762   \n",
       "6      -3.806111  -6.410497  -7.694992  -1.443514  -7.135466 -3.231779   \n",
       "9      -7.632134  -2.497034  -8.864997  -2.741921  -5.094120 -9.865230   \n",
       "11    -13.532716  -7.309594  -3.097384  -5.110380  -7.832860 -5.489939   \n",
       "...          ...        ...        ...        ...        ...       ...   \n",
       "16392 -19.643864  -7.232727  -7.771798  -8.517435   1.568334 -6.449186   \n",
       "16393 -15.226082  -7.238288   1.549171  -8.778543 -10.499634 -2.756248   \n",
       "16399 -10.113518 -13.114539   0.588433 -15.267725 -10.102098 -0.440946   \n",
       "16401  -8.471071   1.332329   2.440598  -1.968042  -7.462181  0.142055   \n",
       "16406  -9.393263   2.945532  -1.885135  -5.709171  -6.403487 -4.559177   \n",
       "\n",
       "             12  \n",
       "2     -7.138989  \n",
       "4     -6.036354  \n",
       "6     -8.599639  \n",
       "9     -3.816169  \n",
       "11    -3.351381  \n",
       "...         ...  \n",
       "16392  1.097754  \n",
       "16393 -6.887878  \n",
       "16399  0.197361  \n",
       "16401 -4.275077  \n",
       "16406 -4.068616  \n",
       "\n",
       "[1823 rows x 13 columns]"
      ]
     },
     "execution_count": 19,
     "metadata": {},
     "output_type": "execute_result"
    }
   ],
   "source": [
    "X = df.iloc[:, -13:] # all rows, all columns except the last one (? is it SoundRep?)\n",
    "X"
   ]
  },
  {
   "cell_type": "code",
   "execution_count": 14,
   "metadata": {},
   "outputs": [
    {
     "data": {
      "text/plain": [
       "2        0\n",
       "4        0\n",
       "6        0\n",
       "9        0\n",
       "11       0\n",
       "        ..\n",
       "16392    0\n",
       "16393    0\n",
       "16399    0\n",
       "16401    0\n",
       "16406    0\n",
       "Name: SoundRep, Length: 1823, dtype: int64"
      ]
     },
     "execution_count": 14,
     "metadata": {},
     "output_type": "execute_result"
    }
   ],
   "source": [
    "y = df['SoundRep']\n",
    "y"
   ]
  },
  {
   "cell_type": "code",
   "execution_count": 15,
   "metadata": {},
   "outputs": [],
   "source": [
    "# split into train and test data\n",
    "X_train, X_test, y_train, y_test = train_test_split(X, y, test_size=0.4, random_state=42)"
   ]
  },
  {
   "cell_type": "code",
   "execution_count": 16,
   "metadata": {},
   "outputs": [
    {
     "data": {
      "text/plain": [
       "Counter({0: 1024, 1: 69})"
      ]
     },
     "execution_count": 16,
     "metadata": {},
     "output_type": "execute_result"
    }
   ],
   "source": [
    "Counter(y_train)"
   ]
  },
  {
   "cell_type": "code",
   "execution_count": 17,
   "metadata": {},
   "outputs": [
    {
     "data": {
      "text/plain": [
       "85.89041095890411"
      ]
     },
     "execution_count": 17,
     "metadata": {},
     "output_type": "execute_result"
    }
   ],
   "source": [
    "clf = DecisionTreeClassifier(criterion='gini', random_state=5)\n",
    "clf.fit(X_train, y_train)\n",
    "clf.score(X_test, y_test) * 100"
   ]
  },
  {
   "cell_type": "code",
   "execution_count": 18,
   "metadata": {},
   "outputs": [
    {
     "name": "stdout",
     "output_type": "stream",
     "text": [
      "Counter({0: 669, 1: 61})\n",
      "Counter({0: 678, 1: 52})\n"
     ]
    }
   ],
   "source": [
    "y_pred = np.array(clf.predict(X_test))\n",
    "y_actual = np.array(y_test)\n",
    "print(Counter(y_pred))\n",
    "print(Counter(y_actual))"
   ]
  }
 ],
 "metadata": {
  "kernelspec": {
   "display_name": ".venv",
   "language": "python",
   "name": "python3"
  },
  "language_info": {
   "codemirror_mode": {
    "name": "ipython",
    "version": 3
   },
   "file_extension": ".py",
   "mimetype": "text/x-python",
   "name": "python",
   "nbconvert_exporter": "python",
   "pygments_lexer": "ipython3",
   "version": "3.11.7"
  }
 },
 "nbformat": 4,
 "nbformat_minor": 2
}
