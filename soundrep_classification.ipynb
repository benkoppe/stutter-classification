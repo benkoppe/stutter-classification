{
 "cells": [
  {
   "cell_type": "code",
   "execution_count": 1,
   "metadata": {},
   "outputs": [],
   "source": [
    "# imports\n",
    "\n",
    "from common import train_model\n",
    "from sklearn.tree import DecisionTreeClassifier"
   ]
  },
  {
   "cell_type": "code",
   "execution_count": 2,
   "metadata": {},
   "outputs": [
    {
     "data": {
      "text/plain": [
       "85.89041095890411"
      ]
     },
     "execution_count": 2,
     "metadata": {},
     "output_type": "execute_result"
    }
   ],
   "source": [
    "# initialize model\n",
    "clf = DecisionTreeClassifier(criterion='gini', random_state=5)\n",
    "\n",
    "# train the model\n",
    "clf, dataset = train_model(clf, \"SoundRep\")\n",
    "\n",
    "clf.score(dataset.X_test, dataset.y_test) * 100"
   ]
  },
  {
   "cell_type": "code",
   "execution_count": 10,
   "metadata": {},
   "outputs": [
    {
     "ename": "AttributeError",
     "evalue": "module 'coremltools' has no attribute 'ArrayFeatureType'",
     "output_type": "error",
     "traceback": [
      "\u001b[0;31m---------------------------------------------------------------------------\u001b[0m",
      "\u001b[0;31mAttributeError\u001b[0m                            Traceback (most recent call last)",
      "Cell \u001b[0;32mIn[10], line 11\u001b[0m\n\u001b[1;32m      8\u001b[0m input_features \u001b[38;5;241m=\u001b[39m ct\u001b[38;5;241m.\u001b[39mTensorType(name\u001b[38;5;241m=\u001b[39minput_features, shape\u001b[38;5;241m=\u001b[39m(\u001b[38;5;241m1\u001b[39m, \u001b[38;5;28mlen\u001b[39m(input_features)))\n\u001b[1;32m     10\u001b[0m output_features \u001b[38;5;241m=\u001b[39m dataset\u001b[38;5;241m.\u001b[39my_train\u001b[38;5;241m.\u001b[39mname\n\u001b[0;32m---> 11\u001b[0m output_features \u001b[38;5;241m=\u001b[39m \u001b[43mct\u001b[49m\u001b[38;5;241;43m.\u001b[39;49m\u001b[43mArrayFeatureType\u001b[49m()\n\u001b[1;32m     13\u001b[0m \u001b[38;5;28mprint\u001b[39m(output_features)\n\u001b[1;32m     15\u001b[0m \u001b[38;5;66;03m# convert the model\u001b[39;00m\n\u001b[1;32m     16\u001b[0m \n\u001b[1;32m     17\u001b[0m \u001b[38;5;66;03m# model = ct.convert(clf, input_feature, output_feature)\u001b[39;00m\n",
      "\u001b[0;31mAttributeError\u001b[0m: module 'coremltools' has no attribute 'ArrayFeatureType'"
     ]
    }
   ],
   "source": [
    "# convert to coreml\n",
    "\n",
    "import coremltools as ct\n",
    "\n",
    "# define input and output features\n",
    "\n",
    "input_features = dataset.X_train.columns.tolist()\n",
    "\n",
    "output_features = dataset.y_train.name\n",
    "\n",
    "print(output_features)\n",
    "\n",
    "# convert the model\n",
    "\n",
    "model = ct.converters.sklearn.convert(\n",
    "    clf, \n",
    "    input_features,\n",
    "    output_features,\n",
    ")\n",
    "\n",
    "model.save(\"SoundRep.mlmodel\")"
   ]
  }
 ],
 "metadata": {
  "kernelspec": {
   "display_name": ".venv",
   "language": "python",
   "name": "python3"
  },
  "language_info": {
   "codemirror_mode": {
    "name": "ipython",
    "version": 3
   },
   "file_extension": ".py",
   "mimetype": "text/x-python",
   "name": "python",
   "nbconvert_exporter": "python",
   "pygments_lexer": "ipython3",
   "version": "3.10.12"
  }
 },
 "nbformat": 4,
 "nbformat_minor": 2
}
